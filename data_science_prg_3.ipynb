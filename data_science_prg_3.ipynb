{
 "cells": [
  {
   "cell_type": "markdown",
   "id": "b6be9bbd",
   "metadata": {},
   "source": [
    "Stepwise Implementation\n",
    "Step 1: Importing Necessary Libraries\n",
    "The task is simple, once the installation of all the required libraries is successful, they need to be imported to the working space, since they will provide the additional support for analysis and visualization.\n",
    "\n",
    "Example: importing libraries"
   ]
  },
  {
   "cell_type": "code",
   "execution_count": 55,
   "id": "ba426726",
   "metadata": {},
   "outputs": [
    {
     "data": {
      "text/html": [
       "        <script type=\"text/javascript\">\n",
       "        window.PlotlyConfig = {MathJaxConfig: 'local'};\n",
       "        if (window.MathJax && window.MathJax.Hub && window.MathJax.Hub.Config) {window.MathJax.Hub.Config({SVG: {font: \"STIX-Web\"}});}\n",
       "        if (typeof require !== 'undefined') {\n",
       "        require.undef(\"plotly\");\n",
       "        requirejs.config({\n",
       "            paths: {\n",
       "                'plotly': ['https://cdn.plot.ly/plotly-2.35.2.min']\n",
       "            }\n",
       "        });\n",
       "        require(['plotly'], function(Plotly) {\n",
       "            window._Plotly = Plotly;\n",
       "        });\n",
       "        }\n",
       "        </script>\n",
       "        "
      ]
     },
     "metadata": {},
     "output_type": "display_data"
    }
   ],
   "source": [
    "# Data analysis and Manipulation\n",
    "import plotly.graph_objs as go\n",
    "import plotly.io as pio\n",
    "import plotly.express as px\n",
    "import pandas as pd\n",
    "\n",
    "# Data Visualization\n",
    "import matplotlib.pyplot as plt\n",
    "\n",
    "# Importing Plotly\n",
    "import plotly.offline as py\n",
    "py.init_notebook_mode(connected=True)\n",
    "\n",
    "# Initializing Plotly\n",
    "pio.renderers.default = 'colab'"
   ]
  },
  {
   "cell_type": "markdown",
   "metadata": {},
   "source": [
    "Step 2: Importing the Datasets\n",
    "Importing three datasets into this project\n",
    "\n",
    "covid- This dataset contains Country/Region, Continent,  Population, TotalCases, NewCases, TotalDeaths, NewDeaths,  TotalRecovered, NewRecovered, ActiveCases, Serious, Critical, Tot Cases/1M pop, Deaths/1M pop, TotalTests, Tests/1M pop, WHO Region, iso_alpha.\n",
    "covid_grouped- This dataset contains Date(from 20-01-22 to 20-07-27), Country/Region, Confirmed, Deaths, Recovered, Active, New cases, New deaths, New recovered, WHO Region, iso_alpha.\n",
    "coviddeath- This dataset contains real-world examples of a number of Covid-19 deaths and the reasons behind the deaths."
   ]
  },
  {
   "cell_type": "code",
   "execution_count": 56,
   "id": "898ba01c",
   "metadata": {},
   "outputs": [
    {
     "data": {
      "text/html": [
       "<div>\n",
       "<style scoped>\n",
       "    .dataframe tbody tr th:only-of-type {\n",
       "        vertical-align: middle;\n",
       "    }\n",
       "\n",
       "    .dataframe tbody tr th {\n",
       "        vertical-align: top;\n",
       "    }\n",
       "\n",
       "    .dataframe thead th {\n",
       "        text-align: right;\n",
       "    }\n",
       "</style>\n",
       "<table border=\"1\" class=\"dataframe\">\n",
       "  <thead>\n",
       "    <tr style=\"text-align: right;\">\n",
       "      <th></th>\n",
       "      <th>Country/Region</th>\n",
       "      <th>Continent</th>\n",
       "      <th>Population</th>\n",
       "      <th>TotalCases</th>\n",
       "      <th>NewCases</th>\n",
       "      <th>TotalDeaths</th>\n",
       "      <th>NewDeaths</th>\n",
       "      <th>TotalRecovered</th>\n",
       "      <th>NewRecovered</th>\n",
       "      <th>ActiveCases</th>\n",
       "      <th>Serious,Critical</th>\n",
       "      <th>Tot Cases/1M pop</th>\n",
       "      <th>Deaths/1M pop</th>\n",
       "      <th>TotalTests</th>\n",
       "      <th>Tests/1M pop</th>\n",
       "      <th>WHO Region</th>\n",
       "      <th>iso_alpha</th>\n",
       "    </tr>\n",
       "  </thead>\n",
       "  <tbody>\n",
       "    <tr>\n",
       "      <th>0</th>\n",
       "      <td>USA</td>\n",
       "      <td>North America</td>\n",
       "      <td>3.311981e+08</td>\n",
       "      <td>5032179</td>\n",
       "      <td>NaN</td>\n",
       "      <td>162804.0</td>\n",
       "      <td>NaN</td>\n",
       "      <td>2576668.0</td>\n",
       "      <td>NaN</td>\n",
       "      <td>2292707.0</td>\n",
       "      <td>18296.0</td>\n",
       "      <td>15194.0</td>\n",
       "      <td>492.0</td>\n",
       "      <td>63139605.0</td>\n",
       "      <td>190640.0</td>\n",
       "      <td>Americas</td>\n",
       "      <td>USA</td>\n",
       "    </tr>\n",
       "    <tr>\n",
       "      <th>1</th>\n",
       "      <td>Brazil</td>\n",
       "      <td>South America</td>\n",
       "      <td>2.127107e+08</td>\n",
       "      <td>2917562</td>\n",
       "      <td>NaN</td>\n",
       "      <td>98644.0</td>\n",
       "      <td>NaN</td>\n",
       "      <td>2047660.0</td>\n",
       "      <td>NaN</td>\n",
       "      <td>771258.0</td>\n",
       "      <td>8318.0</td>\n",
       "      <td>13716.0</td>\n",
       "      <td>464.0</td>\n",
       "      <td>13206188.0</td>\n",
       "      <td>62085.0</td>\n",
       "      <td>Americas</td>\n",
       "      <td>BRA</td>\n",
       "    </tr>\n",
       "    <tr>\n",
       "      <th>2</th>\n",
       "      <td>India</td>\n",
       "      <td>Asia</td>\n",
       "      <td>1.381345e+09</td>\n",
       "      <td>2025409</td>\n",
       "      <td>NaN</td>\n",
       "      <td>41638.0</td>\n",
       "      <td>NaN</td>\n",
       "      <td>1377384.0</td>\n",
       "      <td>NaN</td>\n",
       "      <td>606387.0</td>\n",
       "      <td>8944.0</td>\n",
       "      <td>1466.0</td>\n",
       "      <td>30.0</td>\n",
       "      <td>22149351.0</td>\n",
       "      <td>16035.0</td>\n",
       "      <td>South-EastAsia</td>\n",
       "      <td>IND</td>\n",
       "    </tr>\n",
       "    <tr>\n",
       "      <th>3</th>\n",
       "      <td>Russia</td>\n",
       "      <td>Europe</td>\n",
       "      <td>1.459409e+08</td>\n",
       "      <td>871894</td>\n",
       "      <td>NaN</td>\n",
       "      <td>14606.0</td>\n",
       "      <td>NaN</td>\n",
       "      <td>676357.0</td>\n",
       "      <td>NaN</td>\n",
       "      <td>180931.0</td>\n",
       "      <td>2300.0</td>\n",
       "      <td>5974.0</td>\n",
       "      <td>100.0</td>\n",
       "      <td>29716907.0</td>\n",
       "      <td>203623.0</td>\n",
       "      <td>Europe</td>\n",
       "      <td>RUS</td>\n",
       "    </tr>\n",
       "    <tr>\n",
       "      <th>4</th>\n",
       "      <td>South Africa</td>\n",
       "      <td>Africa</td>\n",
       "      <td>5.938157e+07</td>\n",
       "      <td>538184</td>\n",
       "      <td>NaN</td>\n",
       "      <td>9604.0</td>\n",
       "      <td>NaN</td>\n",
       "      <td>387316.0</td>\n",
       "      <td>NaN</td>\n",
       "      <td>141264.0</td>\n",
       "      <td>539.0</td>\n",
       "      <td>9063.0</td>\n",
       "      <td>162.0</td>\n",
       "      <td>3149807.0</td>\n",
       "      <td>53044.0</td>\n",
       "      <td>Africa</td>\n",
       "      <td>ZAF</td>\n",
       "    </tr>\n",
       "  </tbody>\n",
       "</table>\n",
       "</div>"
      ],
      "text/plain": [
       "  Country/Region      Continent    Population  TotalCases  NewCases  \\\n",
       "0            USA  North America  3.311981e+08     5032179       NaN   \n",
       "1         Brazil  South America  2.127107e+08     2917562       NaN   \n",
       "2          India           Asia  1.381345e+09     2025409       NaN   \n",
       "3         Russia         Europe  1.459409e+08      871894       NaN   \n",
       "4   South Africa         Africa  5.938157e+07      538184       NaN   \n",
       "\n",
       "   TotalDeaths  NewDeaths  TotalRecovered  NewRecovered  ActiveCases  \\\n",
       "0     162804.0        NaN       2576668.0           NaN    2292707.0   \n",
       "1      98644.0        NaN       2047660.0           NaN     771258.0   \n",
       "2      41638.0        NaN       1377384.0           NaN     606387.0   \n",
       "3      14606.0        NaN        676357.0           NaN     180931.0   \n",
       "4       9604.0        NaN        387316.0           NaN     141264.0   \n",
       "\n",
       "   Serious,Critical  Tot Cases/1M pop  Deaths/1M pop  TotalTests  \\\n",
       "0           18296.0           15194.0          492.0  63139605.0   \n",
       "1            8318.0           13716.0          464.0  13206188.0   \n",
       "2            8944.0            1466.0           30.0  22149351.0   \n",
       "3            2300.0            5974.0          100.0  29716907.0   \n",
       "4             539.0            9063.0          162.0   3149807.0   \n",
       "\n",
       "   Tests/1M pop      WHO Region iso_alpha  \n",
       "0      190640.0        Americas       USA  \n",
       "1       62085.0        Americas       BRA  \n",
       "2       16035.0  South-EastAsia       IND  \n",
       "3      203623.0          Europe       RUS  \n",
       "4       53044.0          Africa       ZAF  "
      ]
     },
     "execution_count": 56,
     "metadata": {},
     "output_type": "execute_result"
    }
   ],
   "source": [
    "# Importing Dataset1\n",
    "dataset1 = pd.read_csv(\"C:\\\\Users\\\\LENOVO\\\\Downloads\\\\covid.csv\")\n",
    "dataset1.head()  # returns first 5 rows"
   ]
  },
  {
   "cell_type": "markdown",
   "id": "4d97d915",
   "metadata": {},
   "source": [
    "Further, information regarding the dataset we are using will help us sample it better for analysis.\n",
    "\n",
    "Example: getting dataset information"
   ]
  },
  {
   "cell_type": "code",
   "execution_count": 57,
   "id": "6bef3f88",
   "metadata": {},
   "outputs": [
    {
     "name": "stdout",
     "output_type": "stream",
     "text": [
      "(209, 17)\n",
      "3553\n",
      "<class 'pandas.core.frame.DataFrame'>\n",
      "RangeIndex: 209 entries, 0 to 208\n",
      "Data columns (total 17 columns):\n",
      " #   Column            Non-Null Count  Dtype  \n",
      "---  ------            --------------  -----  \n",
      " 0   Country/Region    209 non-null    object \n",
      " 1   Continent         208 non-null    object \n",
      " 2   Population        208 non-null    float64\n",
      " 3   TotalCases        209 non-null    int64  \n",
      " 4   NewCases          4 non-null      float64\n",
      " 5   TotalDeaths       188 non-null    float64\n",
      " 6   NewDeaths         3 non-null      float64\n",
      " 7   TotalRecovered    205 non-null    float64\n",
      " 8   NewRecovered      3 non-null      float64\n",
      " 9   ActiveCases       205 non-null    float64\n",
      " 10  Serious,Critical  122 non-null    float64\n",
      " 11  Tot Cases/1M pop  208 non-null    float64\n",
      " 12  Deaths/1M pop     187 non-null    float64\n",
      " 13  TotalTests        191 non-null    float64\n",
      " 14  Tests/1M pop      191 non-null    float64\n",
      " 15  WHO Region        184 non-null    object \n",
      " 16  iso_alpha         209 non-null    object \n",
      "dtypes: float64(12), int64(1), object(4)\n",
      "memory usage: 27.9+ KB\n"
     ]
    }
   ],
   "source": [
    "# Returns tuple of shape (Rows, columns)\n",
    "print(dataset1.shape)\n",
    "\n",
    "# Returns size of dataframe\n",
    "print(dataset1.size)\n",
    "# Information about Dataset1\n",
    "# return concise summary of dataframe\n",
    "dataset1.info()"
   ]
  },
  {
   "cell_type": "markdown",
   "id": "71118dfb",
   "metadata": {},
   "source": [
    "Example: Importing dataset "
   ]
  },
  {
   "cell_type": "code",
   "execution_count": 58,
   "id": "eecba12c",
   "metadata": {},
   "outputs": [
    {
     "data": {
      "text/html": [
       "<div>\n",
       "<style scoped>\n",
       "    .dataframe tbody tr th:only-of-type {\n",
       "        vertical-align: middle;\n",
       "    }\n",
       "\n",
       "    .dataframe tbody tr th {\n",
       "        vertical-align: top;\n",
       "    }\n",
       "\n",
       "    .dataframe thead th {\n",
       "        text-align: right;\n",
       "    }\n",
       "</style>\n",
       "<table border=\"1\" class=\"dataframe\">\n",
       "  <thead>\n",
       "    <tr style=\"text-align: right;\">\n",
       "      <th></th>\n",
       "      <th>Date</th>\n",
       "      <th>Country/Region</th>\n",
       "      <th>Confirmed</th>\n",
       "      <th>Deaths</th>\n",
       "      <th>Recovered</th>\n",
       "      <th>Active</th>\n",
       "      <th>New cases</th>\n",
       "      <th>New deaths</th>\n",
       "      <th>New recovered</th>\n",
       "      <th>WHO Region</th>\n",
       "      <th>iso_alpha</th>\n",
       "    </tr>\n",
       "  </thead>\n",
       "  <tbody>\n",
       "    <tr>\n",
       "      <th>0</th>\n",
       "      <td>2020-01-22</td>\n",
       "      <td>Afghanistan</td>\n",
       "      <td>0</td>\n",
       "      <td>0</td>\n",
       "      <td>0</td>\n",
       "      <td>0</td>\n",
       "      <td>0</td>\n",
       "      <td>0</td>\n",
       "      <td>0</td>\n",
       "      <td>Eastern Mediterranean</td>\n",
       "      <td>AFG</td>\n",
       "    </tr>\n",
       "    <tr>\n",
       "      <th>1</th>\n",
       "      <td>2020-01-22</td>\n",
       "      <td>Albania</td>\n",
       "      <td>0</td>\n",
       "      <td>0</td>\n",
       "      <td>0</td>\n",
       "      <td>0</td>\n",
       "      <td>0</td>\n",
       "      <td>0</td>\n",
       "      <td>0</td>\n",
       "      <td>Europe</td>\n",
       "      <td>ALB</td>\n",
       "    </tr>\n",
       "    <tr>\n",
       "      <th>2</th>\n",
       "      <td>2020-01-22</td>\n",
       "      <td>Algeria</td>\n",
       "      <td>0</td>\n",
       "      <td>0</td>\n",
       "      <td>0</td>\n",
       "      <td>0</td>\n",
       "      <td>0</td>\n",
       "      <td>0</td>\n",
       "      <td>0</td>\n",
       "      <td>Africa</td>\n",
       "      <td>DZA</td>\n",
       "    </tr>\n",
       "    <tr>\n",
       "      <th>3</th>\n",
       "      <td>2020-01-22</td>\n",
       "      <td>Andorra</td>\n",
       "      <td>0</td>\n",
       "      <td>0</td>\n",
       "      <td>0</td>\n",
       "      <td>0</td>\n",
       "      <td>0</td>\n",
       "      <td>0</td>\n",
       "      <td>0</td>\n",
       "      <td>Europe</td>\n",
       "      <td>AND</td>\n",
       "    </tr>\n",
       "    <tr>\n",
       "      <th>4</th>\n",
       "      <td>2020-01-22</td>\n",
       "      <td>Angola</td>\n",
       "      <td>0</td>\n",
       "      <td>0</td>\n",
       "      <td>0</td>\n",
       "      <td>0</td>\n",
       "      <td>0</td>\n",
       "      <td>0</td>\n",
       "      <td>0</td>\n",
       "      <td>Africa</td>\n",
       "      <td>AGO</td>\n",
       "    </tr>\n",
       "  </tbody>\n",
       "</table>\n",
       "</div>"
      ],
      "text/plain": [
       "         Date Country/Region  Confirmed  Deaths  Recovered  Active  New cases  \\\n",
       "0  2020-01-22    Afghanistan          0       0          0       0          0   \n",
       "1  2020-01-22        Albania          0       0          0       0          0   \n",
       "2  2020-01-22        Algeria          0       0          0       0          0   \n",
       "3  2020-01-22        Andorra          0       0          0       0          0   \n",
       "4  2020-01-22         Angola          0       0          0       0          0   \n",
       "\n",
       "   New deaths  New recovered             WHO Region iso_alpha  \n",
       "0           0              0  Eastern Mediterranean       AFG  \n",
       "1           0              0                 Europe       ALB  \n",
       "2           0              0                 Africa       DZA  \n",
       "3           0              0                 Europe       AND  \n",
       "4           0              0                 Africa       AGO  "
      ]
     },
     "execution_count": 58,
     "metadata": {},
     "output_type": "execute_result"
    }
   ],
   "source": [
    "# Importing Dataset2\n",
    "dataset2 = pd.read_csv(\"C:\\\\Users\\\\LENOVO\\\\Downloads\\\\covid_grouped.csv\")\n",
    "dataset2.head()  # return first 5 rows of dataset2"
   ]
  },
  {
   "cell_type": "markdown",
   "id": "7b0d5456",
   "metadata": {},
   "source": [
    "Example: Getting dataset information"
   ]
  },
  {
   "cell_type": "code",
   "execution_count": 59,
   "id": "0d04531f",
   "metadata": {},
   "outputs": [
    {
     "name": "stdout",
     "output_type": "stream",
     "text": [
      "(35156, 11)\n",
      "386716\n",
      "<class 'pandas.core.frame.DataFrame'>\n",
      "RangeIndex: 35156 entries, 0 to 35155\n",
      "Data columns (total 11 columns):\n",
      " #   Column          Non-Null Count  Dtype \n",
      "---  ------          --------------  ----- \n",
      " 0   Date            35156 non-null  object\n",
      " 1   Country/Region  35156 non-null  object\n",
      " 2   Confirmed       35156 non-null  int64 \n",
      " 3   Deaths          35156 non-null  int64 \n",
      " 4   Recovered       35156 non-null  int64 \n",
      " 5   Active          35156 non-null  int64 \n",
      " 6   New cases       35156 non-null  int64 \n",
      " 7   New deaths      35156 non-null  int64 \n",
      " 8   New recovered   35156 non-null  int64 \n",
      " 9   WHO Region      35156 non-null  object\n",
      " 10  iso_alpha       35156 non-null  object\n",
      "dtypes: int64(7), object(4)\n",
      "memory usage: 3.0+ MB\n"
     ]
    }
   ],
   "source": [
    "# Returns tuple of shape (Rows, columns)\n",
    "print(dataset2.shape)\n",
    "\n",
    "# Returns size of dataframe\n",
    "print(dataset2.size)# Information about Dataset2\n",
    "dataset2.info()  # return concise summary of dataframe"
   ]
  },
  {
   "cell_type": "markdown",
   "id": "fdf3cecb",
   "metadata": {},
   "source": [
    "Step 3: Dataset cleaning\n",
    "Data cleaning is the process of altering, modifying a recordset, correcting erroneous records from the database and identifying incomplete, incorrect, or irrelevant parts of the data, and then removing dirty data.\n",
    "\n",
    "Example: Getting dataset columns"
   ]
  },
  {
   "cell_type": "code",
   "execution_count": 60,
   "id": "34a46fa9",
   "metadata": {},
   "outputs": [
    {
     "data": {
      "text/html": [
       "<div>\n",
       "<style scoped>\n",
       "    .dataframe tbody tr th:only-of-type {\n",
       "        vertical-align: middle;\n",
       "    }\n",
       "\n",
       "    .dataframe tbody tr th {\n",
       "        vertical-align: top;\n",
       "    }\n",
       "\n",
       "    .dataframe thead th {\n",
       "        text-align: right;\n",
       "    }\n",
       "</style>\n",
       "<table border=\"1\" class=\"dataframe\">\n",
       "  <thead>\n",
       "    <tr style=\"text-align: right;\">\n",
       "      <th></th>\n",
       "      <th>Country/Region</th>\n",
       "      <th>Continent</th>\n",
       "      <th>Population</th>\n",
       "      <th>TotalCases</th>\n",
       "      <th>TotalDeaths</th>\n",
       "      <th>TotalRecovered</th>\n",
       "      <th>ActiveCases</th>\n",
       "      <th>Serious,Critical</th>\n",
       "      <th>Tot Cases/1M pop</th>\n",
       "      <th>Deaths/1M pop</th>\n",
       "      <th>TotalTests</th>\n",
       "      <th>Tests/1M pop</th>\n",
       "      <th>WHO Region</th>\n",
       "      <th>iso_alpha</th>\n",
       "    </tr>\n",
       "  </thead>\n",
       "  <tbody>\n",
       "    <tr>\n",
       "      <th>81</th>\n",
       "      <td>Norway</td>\n",
       "      <td>Europe</td>\n",
       "      <td>5425471.0</td>\n",
       "      <td>9468</td>\n",
       "      <td>256.0</td>\n",
       "      <td>8857.0</td>\n",
       "      <td>355.0</td>\n",
       "      <td>3.0</td>\n",
       "      <td>1745.0</td>\n",
       "      <td>47.0</td>\n",
       "      <td>472841.0</td>\n",
       "      <td>87152.0</td>\n",
       "      <td>Europe</td>\n",
       "      <td>NOR</td>\n",
       "    </tr>\n",
       "    <tr>\n",
       "      <th>109</th>\n",
       "      <td>Montenegro</td>\n",
       "      <td>Europe</td>\n",
       "      <td>628074.0</td>\n",
       "      <td>3480</td>\n",
       "      <td>60.0</td>\n",
       "      <td>2178.0</td>\n",
       "      <td>1242.0</td>\n",
       "      <td>NaN</td>\n",
       "      <td>5541.0</td>\n",
       "      <td>96.0</td>\n",
       "      <td>38427.0</td>\n",
       "      <td>61182.0</td>\n",
       "      <td>Europe</td>\n",
       "      <td>MNE</td>\n",
       "    </tr>\n",
       "    <tr>\n",
       "      <th>174</th>\n",
       "      <td>Cambodia</td>\n",
       "      <td>Asia</td>\n",
       "      <td>16741375.0</td>\n",
       "      <td>243</td>\n",
       "      <td>NaN</td>\n",
       "      <td>210.0</td>\n",
       "      <td>33.0</td>\n",
       "      <td>1.0</td>\n",
       "      <td>15.0</td>\n",
       "      <td>NaN</td>\n",
       "      <td>67807.0</td>\n",
       "      <td>4050.0</td>\n",
       "      <td>WesternPacific</td>\n",
       "      <td>KHM</td>\n",
       "    </tr>\n",
       "    <tr>\n",
       "      <th>99</th>\n",
       "      <td>Libya</td>\n",
       "      <td>Africa</td>\n",
       "      <td>6880353.0</td>\n",
       "      <td>4879</td>\n",
       "      <td>107.0</td>\n",
       "      <td>652.0</td>\n",
       "      <td>4120.0</td>\n",
       "      <td>NaN</td>\n",
       "      <td>709.0</td>\n",
       "      <td>16.0</td>\n",
       "      <td>59699.0</td>\n",
       "      <td>8677.0</td>\n",
       "      <td>EasternMediterranean</td>\n",
       "      <td>LBY</td>\n",
       "    </tr>\n",
       "    <tr>\n",
       "      <th>63</th>\n",
       "      <td>Nepal</td>\n",
       "      <td>Asia</td>\n",
       "      <td>29186486.0</td>\n",
       "      <td>21750</td>\n",
       "      <td>65.0</td>\n",
       "      <td>15389.0</td>\n",
       "      <td>6296.0</td>\n",
       "      <td>NaN</td>\n",
       "      <td>745.0</td>\n",
       "      <td>2.0</td>\n",
       "      <td>731977.0</td>\n",
       "      <td>25079.0</td>\n",
       "      <td>South-EastAsia</td>\n",
       "      <td>NPL</td>\n",
       "    </tr>\n",
       "  </tbody>\n",
       "</table>\n",
       "</div>"
      ],
      "text/plain": [
       "    Country/Region Continent  Population  TotalCases  TotalDeaths  \\\n",
       "81          Norway    Europe   5425471.0        9468        256.0   \n",
       "109     Montenegro    Europe    628074.0        3480         60.0   \n",
       "174       Cambodia      Asia  16741375.0         243          NaN   \n",
       "99           Libya    Africa   6880353.0        4879        107.0   \n",
       "63           Nepal      Asia  29186486.0       21750         65.0   \n",
       "\n",
       "     TotalRecovered  ActiveCases  Serious,Critical  Tot Cases/1M pop  \\\n",
       "81           8857.0        355.0               3.0            1745.0   \n",
       "109          2178.0       1242.0               NaN            5541.0   \n",
       "174           210.0         33.0               1.0              15.0   \n",
       "99            652.0       4120.0               NaN             709.0   \n",
       "63          15389.0       6296.0               NaN             745.0   \n",
       "\n",
       "     Deaths/1M pop  TotalTests  Tests/1M pop            WHO Region iso_alpha  \n",
       "81            47.0    472841.0       87152.0                Europe       NOR  \n",
       "109           96.0     38427.0       61182.0                Europe       MNE  \n",
       "174            NaN     67807.0        4050.0        WesternPacific       KHM  \n",
       "99            16.0     59699.0        8677.0  EasternMediterranean       LBY  \n",
       "63             2.0    731977.0       25079.0        South-EastAsia       NPL  "
      ]
     },
     "execution_count": 60,
     "metadata": {},
     "output_type": "execute_result"
    }
   ],
   "source": [
    "# Columns labels of a Dataset1\n",
    "dataset1.columns\n",
    "# Drop NewCases, NewDeaths, NewRecovered rows from dataset1\n",
    "\n",
    "dataset1.drop(['NewCases', 'NewDeaths', 'NewRecovered'], \n",
    "              axis=1, inplace=True)\n",
    "\n",
    "# Select random set of values from dataset1\n",
    "dataset1.sample(5)"
   ]
  },
  {
   "cell_type": "markdown",
   "id": "8431d7c4",
   "metadata": {},
   "source": [
    "Example: Creating table using plotly express"
   ]
  },
  {
   "cell_type": "markdown",
   "id": "e8268b84",
   "metadata": {},
   "source": [
    "Step 4: Bar graphs- Comparisons between COVID infected countries in terms of total cases, total deaths, total recovered & total tests\n",
    "Using one line of code, we will create amazing graphs using Plotly Express. Visualization can be done easily by moving the cursor in any plot, we can get label presence point directly by using the cursor. We can visualize and analyze the dataset with each aspect using the relation between the columns.\n",
    "\n",
    "Primarily look at the country with respect to a total number of cases by top 15 countries only and color total cases and hover data as 'Country/Region', 'Continent'.\n",
    "\n",
    "Example: Bar graph"
   ]
  },
  {
   "cell_type": "code",
   "execution_count": 61,
   "id": "42c4dc94",
   "metadata": {},
   "outputs": [
    {
     "data": {
      "text/html": [
       "<html>\n",
       "<head><meta charset=\"utf-8\" /></head>\n",
       "<body>\n",
       "    <div>            <script src=\"https://cdnjs.cloudflare.com/ajax/libs/mathjax/2.7.5/MathJax.js?config=TeX-AMS-MML_SVG\"></script><script type=\"text/javascript\">if (window.MathJax && window.MathJax.Hub && window.MathJax.Hub.Config) {window.MathJax.Hub.Config({SVG: {font: \"STIX-Web\"}});}</script>                <script type=\"text/javascript\">window.PlotlyConfig = {MathJaxConfig: 'local'};</script>\n",
       "        <script charset=\"utf-8\" src=\"https://cdn.plot.ly/plotly-2.35.2.min.js\"></script>                <div id=\"a4339ce3-c5c3-41ed-9024-1f1128a23765\" class=\"plotly-graph-div\" style=\"height:500px; width:100%;\"></div>            <script type=\"text/javascript\">                                    window.PLOTLYENV=window.PLOTLYENV || {};                                    if (document.getElementById(\"a4339ce3-c5c3-41ed-9024-1f1128a23765\")) {                    Plotly.newPlot(                        \"a4339ce3-c5c3-41ed-9024-1f1128a23765\",                        [{\"alignmentgroup\":\"True\",\"customdata\":[[\"North America\"],[\"South America\"],[\"Asia\"],[\"Europe\"],[\"Africa\"],[\"North America\"],[\"South America\"],[\"South America\"],[\"South America\"],[\"Europe\"],[\"Asia\"],[\"Europe\"],[\"Asia\"],[\"Asia\"],[\"Asia\"]],\"hovertemplate\":\"Country\\u002fRegion=%{x}\\u003cbr\\u003eTotalCases=%{y}\\u003cbr\\u003eContinent=%{customdata[0]}\\u003cbr\\u003eTotalDeaths=%{marker.color}\\u003cextra\\u003e\\u003c\\u002fextra\\u003e\",\"legendgroup\":\"\",\"marker\":{\"color\":[162804.0,98644.0,41638.0,14606.0,9604.0,50517.0,20424.0,9889.0,11939.0,28500.0,17976.0,46413.0,3055.0,6035.0,3306.0],\"coloraxis\":\"coloraxis\",\"pattern\":{\"shape\":\"\"}},\"name\":\"\",\"offsetgroup\":\"\",\"orientation\":\"v\",\"showlegend\":false,\"textposition\":\"auto\",\"x\":[\"USA\",\"Brazil\",\"India\",\"Russia\",\"South Africa\",\"Mexico\",\"Peru\",\"Chile\",\"Colombia\",\"Spain\",\"Iran\",\"UK\",\"Saudi Arabia\",\"Pakistan\",\"Bangladesh\"],\"xaxis\":\"x\",\"y\":[5032179,2917562,2025409,871894,538184,462690,455409,366671,357710,354530,320117,308134,284226,281863,249651],\"yaxis\":\"y\",\"type\":\"bar\"}],                        {\"template\":{\"data\":{\"histogram2dcontour\":[{\"type\":\"histogram2dcontour\",\"colorbar\":{\"outlinewidth\":0,\"ticks\":\"\"},\"colorscale\":[[0.0,\"#0d0887\"],[0.1111111111111111,\"#46039f\"],[0.2222222222222222,\"#7201a8\"],[0.3333333333333333,\"#9c179e\"],[0.4444444444444444,\"#bd3786\"],[0.5555555555555556,\"#d8576b\"],[0.6666666666666666,\"#ed7953\"],[0.7777777777777778,\"#fb9f3a\"],[0.8888888888888888,\"#fdca26\"],[1.0,\"#f0f921\"]]}],\"choropleth\":[{\"type\":\"choropleth\",\"colorbar\":{\"outlinewidth\":0,\"ticks\":\"\"}}],\"histogram2d\":[{\"type\":\"histogram2d\",\"colorbar\":{\"outlinewidth\":0,\"ticks\":\"\"},\"colorscale\":[[0.0,\"#0d0887\"],[0.1111111111111111,\"#46039f\"],[0.2222222222222222,\"#7201a8\"],[0.3333333333333333,\"#9c179e\"],[0.4444444444444444,\"#bd3786\"],[0.5555555555555556,\"#d8576b\"],[0.6666666666666666,\"#ed7953\"],[0.7777777777777778,\"#fb9f3a\"],[0.8888888888888888,\"#fdca26\"],[1.0,\"#f0f921\"]]}],\"heatmap\":[{\"type\":\"heatmap\",\"colorbar\":{\"outlinewidth\":0,\"ticks\":\"\"},\"colorscale\":[[0.0,\"#0d0887\"],[0.1111111111111111,\"#46039f\"],[0.2222222222222222,\"#7201a8\"],[0.3333333333333333,\"#9c179e\"],[0.4444444444444444,\"#bd3786\"],[0.5555555555555556,\"#d8576b\"],[0.6666666666666666,\"#ed7953\"],[0.7777777777777778,\"#fb9f3a\"],[0.8888888888888888,\"#fdca26\"],[1.0,\"#f0f921\"]]}],\"heatmapgl\":[{\"type\":\"heatmapgl\",\"colorbar\":{\"outlinewidth\":0,\"ticks\":\"\"},\"colorscale\":[[0.0,\"#0d0887\"],[0.1111111111111111,\"#46039f\"],[0.2222222222222222,\"#7201a8\"],[0.3333333333333333,\"#9c179e\"],[0.4444444444444444,\"#bd3786\"],[0.5555555555555556,\"#d8576b\"],[0.6666666666666666,\"#ed7953\"],[0.7777777777777778,\"#fb9f3a\"],[0.8888888888888888,\"#fdca26\"],[1.0,\"#f0f921\"]]}],\"contourcarpet\":[{\"type\":\"contourcarpet\",\"colorbar\":{\"outlinewidth\":0,\"ticks\":\"\"}}],\"contour\":[{\"type\":\"contour\",\"colorbar\":{\"outlinewidth\":0,\"ticks\":\"\"},\"colorscale\":[[0.0,\"#0d0887\"],[0.1111111111111111,\"#46039f\"],[0.2222222222222222,\"#7201a8\"],[0.3333333333333333,\"#9c179e\"],[0.4444444444444444,\"#bd3786\"],[0.5555555555555556,\"#d8576b\"],[0.6666666666666666,\"#ed7953\"],[0.7777777777777778,\"#fb9f3a\"],[0.8888888888888888,\"#fdca26\"],[1.0,\"#f0f921\"]]}],\"surface\":[{\"type\":\"surface\",\"colorbar\":{\"outlinewidth\":0,\"ticks\":\"\"},\"colorscale\":[[0.0,\"#0d0887\"],[0.1111111111111111,\"#46039f\"],[0.2222222222222222,\"#7201a8\"],[0.3333333333333333,\"#9c179e\"],[0.4444444444444444,\"#bd3786\"],[0.5555555555555556,\"#d8576b\"],[0.6666666666666666,\"#ed7953\"],[0.7777777777777778,\"#fb9f3a\"],[0.8888888888888888,\"#fdca26\"],[1.0,\"#f0f921\"]]}],\"mesh3d\":[{\"type\":\"mesh3d\",\"colorbar\":{\"outlinewidth\":0,\"ticks\":\"\"}}],\"scatter\":[{\"fillpattern\":{\"fillmode\":\"overlay\",\"size\":10,\"solidity\":0.2},\"type\":\"scatter\"}],\"parcoords\":[{\"type\":\"parcoords\",\"line\":{\"colorbar\":{\"outlinewidth\":0,\"ticks\":\"\"}}}],\"scatterpolargl\":[{\"type\":\"scatterpolargl\",\"marker\":{\"colorbar\":{\"outlinewidth\":0,\"ticks\":\"\"}}}],\"bar\":[{\"error_x\":{\"color\":\"#2a3f5f\"},\"error_y\":{\"color\":\"#2a3f5f\"},\"marker\":{\"line\":{\"color\":\"#E5ECF6\",\"width\":0.5},\"pattern\":{\"fillmode\":\"overlay\",\"size\":10,\"solidity\":0.2}},\"type\":\"bar\"}],\"scattergeo\":[{\"type\":\"scattergeo\",\"marker\":{\"colorbar\":{\"outlinewidth\":0,\"ticks\":\"\"}}}],\"scatterpolar\":[{\"type\":\"scatterpolar\",\"marker\":{\"colorbar\":{\"outlinewidth\":0,\"ticks\":\"\"}}}],\"histogram\":[{\"marker\":{\"pattern\":{\"fillmode\":\"overlay\",\"size\":10,\"solidity\":0.2}},\"type\":\"histogram\"}],\"scattergl\":[{\"type\":\"scattergl\",\"marker\":{\"colorbar\":{\"outlinewidth\":0,\"ticks\":\"\"}}}],\"scatter3d\":[{\"type\":\"scatter3d\",\"line\":{\"colorbar\":{\"outlinewidth\":0,\"ticks\":\"\"}},\"marker\":{\"colorbar\":{\"outlinewidth\":0,\"ticks\":\"\"}}}],\"scattermapbox\":[{\"type\":\"scattermapbox\",\"marker\":{\"colorbar\":{\"outlinewidth\":0,\"ticks\":\"\"}}}],\"scatterternary\":[{\"type\":\"scatterternary\",\"marker\":{\"colorbar\":{\"outlinewidth\":0,\"ticks\":\"\"}}}],\"scattercarpet\":[{\"type\":\"scattercarpet\",\"marker\":{\"colorbar\":{\"outlinewidth\":0,\"ticks\":\"\"}}}],\"carpet\":[{\"aaxis\":{\"endlinecolor\":\"#2a3f5f\",\"gridcolor\":\"white\",\"linecolor\":\"white\",\"minorgridcolor\":\"white\",\"startlinecolor\":\"#2a3f5f\"},\"baxis\":{\"endlinecolor\":\"#2a3f5f\",\"gridcolor\":\"white\",\"linecolor\":\"white\",\"minorgridcolor\":\"white\",\"startlinecolor\":\"#2a3f5f\"},\"type\":\"carpet\"}],\"table\":[{\"cells\":{\"fill\":{\"color\":\"#EBF0F8\"},\"line\":{\"color\":\"white\"}},\"header\":{\"fill\":{\"color\":\"#C8D4E3\"},\"line\":{\"color\":\"white\"}},\"type\":\"table\"}],\"barpolar\":[{\"marker\":{\"line\":{\"color\":\"#E5ECF6\",\"width\":0.5},\"pattern\":{\"fillmode\":\"overlay\",\"size\":10,\"solidity\":0.2}},\"type\":\"barpolar\"}],\"pie\":[{\"automargin\":true,\"type\":\"pie\"}]},\"layout\":{\"autotypenumbers\":\"strict\",\"colorway\":[\"#636efa\",\"#EF553B\",\"#00cc96\",\"#ab63fa\",\"#FFA15A\",\"#19d3f3\",\"#FF6692\",\"#B6E880\",\"#FF97FF\",\"#FECB52\"],\"font\":{\"color\":\"#2a3f5f\"},\"hovermode\":\"closest\",\"hoverlabel\":{\"align\":\"left\"},\"paper_bgcolor\":\"white\",\"plot_bgcolor\":\"#E5ECF6\",\"polar\":{\"bgcolor\":\"#E5ECF6\",\"angularaxis\":{\"gridcolor\":\"white\",\"linecolor\":\"white\",\"ticks\":\"\"},\"radialaxis\":{\"gridcolor\":\"white\",\"linecolor\":\"white\",\"ticks\":\"\"}},\"ternary\":{\"bgcolor\":\"#E5ECF6\",\"aaxis\":{\"gridcolor\":\"white\",\"linecolor\":\"white\",\"ticks\":\"\"},\"baxis\":{\"gridcolor\":\"white\",\"linecolor\":\"white\",\"ticks\":\"\"},\"caxis\":{\"gridcolor\":\"white\",\"linecolor\":\"white\",\"ticks\":\"\"}},\"coloraxis\":{\"colorbar\":{\"outlinewidth\":0,\"ticks\":\"\"}},\"colorscale\":{\"sequential\":[[0.0,\"#0d0887\"],[0.1111111111111111,\"#46039f\"],[0.2222222222222222,\"#7201a8\"],[0.3333333333333333,\"#9c179e\"],[0.4444444444444444,\"#bd3786\"],[0.5555555555555556,\"#d8576b\"],[0.6666666666666666,\"#ed7953\"],[0.7777777777777778,\"#fb9f3a\"],[0.8888888888888888,\"#fdca26\"],[1.0,\"#f0f921\"]],\"sequentialminus\":[[0.0,\"#0d0887\"],[0.1111111111111111,\"#46039f\"],[0.2222222222222222,\"#7201a8\"],[0.3333333333333333,\"#9c179e\"],[0.4444444444444444,\"#bd3786\"],[0.5555555555555556,\"#d8576b\"],[0.6666666666666666,\"#ed7953\"],[0.7777777777777778,\"#fb9f3a\"],[0.8888888888888888,\"#fdca26\"],[1.0,\"#f0f921\"]],\"diverging\":[[0,\"#8e0152\"],[0.1,\"#c51b7d\"],[0.2,\"#de77ae\"],[0.3,\"#f1b6da\"],[0.4,\"#fde0ef\"],[0.5,\"#f7f7f7\"],[0.6,\"#e6f5d0\"],[0.7,\"#b8e186\"],[0.8,\"#7fbc41\"],[0.9,\"#4d9221\"],[1,\"#276419\"]]},\"xaxis\":{\"gridcolor\":\"white\",\"linecolor\":\"white\",\"ticks\":\"\",\"title\":{\"standoff\":15},\"zerolinecolor\":\"white\",\"automargin\":true,\"zerolinewidth\":2},\"yaxis\":{\"gridcolor\":\"white\",\"linecolor\":\"white\",\"ticks\":\"\",\"title\":{\"standoff\":15},\"zerolinecolor\":\"white\",\"automargin\":true,\"zerolinewidth\":2},\"scene\":{\"xaxis\":{\"backgroundcolor\":\"#E5ECF6\",\"gridcolor\":\"white\",\"linecolor\":\"white\",\"showbackground\":true,\"ticks\":\"\",\"zerolinecolor\":\"white\",\"gridwidth\":2},\"yaxis\":{\"backgroundcolor\":\"#E5ECF6\",\"gridcolor\":\"white\",\"linecolor\":\"white\",\"showbackground\":true,\"ticks\":\"\",\"zerolinecolor\":\"white\",\"gridwidth\":2},\"zaxis\":{\"backgroundcolor\":\"#E5ECF6\",\"gridcolor\":\"white\",\"linecolor\":\"white\",\"showbackground\":true,\"ticks\":\"\",\"zerolinecolor\":\"white\",\"gridwidth\":2}},\"shapedefaults\":{\"line\":{\"color\":\"#2a3f5f\"}},\"annotationdefaults\":{\"arrowcolor\":\"#2a3f5f\",\"arrowhead\":0,\"arrowwidth\":1},\"geo\":{\"bgcolor\":\"white\",\"landcolor\":\"#E5ECF6\",\"subunitcolor\":\"white\",\"showland\":true,\"showlakes\":true,\"lakecolor\":\"white\"},\"title\":{\"x\":0.05},\"mapbox\":{\"style\":\"light\"}}},\"xaxis\":{\"anchor\":\"y\",\"domain\":[0.0,1.0],\"title\":{\"text\":\"Country\\u002fRegion\"}},\"yaxis\":{\"anchor\":\"x\",\"domain\":[0.0,1.0],\"title\":{\"text\":\"TotalCases\"}},\"coloraxis\":{\"colorbar\":{\"title\":{\"text\":\"TotalDeaths\"}},\"colorscale\":[[0.0,\"#0d0887\"],[0.1111111111111111,\"#46039f\"],[0.2222222222222222,\"#7201a8\"],[0.3333333333333333,\"#9c179e\"],[0.4444444444444444,\"#bd3786\"],[0.5555555555555556,\"#d8576b\"],[0.6666666666666666,\"#ed7953\"],[0.7777777777777778,\"#fb9f3a\"],[0.8888888888888888,\"#fdca26\"],[1.0,\"#f0f921\"]]},\"legend\":{\"tracegroupgap\":0},\"margin\":{\"t\":60},\"barmode\":\"relative\",\"height\":500},                        {\"responsive\": true}                    ).then(function(){\n",
       "                            \n",
       "var gd = document.getElementById('a4339ce3-c5c3-41ed-9024-1f1128a23765');\n",
       "var x = new MutationObserver(function (mutations, observer) {{\n",
       "        var display = window.getComputedStyle(gd).display;\n",
       "        if (!display || display === 'none') {{\n",
       "            console.log([gd, 'removed!']);\n",
       "            Plotly.purge(gd);\n",
       "            observer.disconnect();\n",
       "        }}\n",
       "}});\n",
       "\n",
       "// Listen for the removal of the full notebook cells\n",
       "var notebookContainer = gd.closest('#notebook-container');\n",
       "if (notebookContainer) {{\n",
       "    x.observe(notebookContainer, {childList: true});\n",
       "}}\n",
       "\n",
       "// Listen for the clearing of the current output cell\n",
       "var outputEl = gd.closest('.output');\n",
       "if (outputEl) {{\n",
       "    x.observe(outputEl, {childList: true});\n",
       "}}\n",
       "\n",
       "                        })                };                            </script>        </div>\n",
       "</body>\n",
       "</html>"
      ]
     },
     "metadata": {},
     "output_type": "display_data"
    }
   ],
   "source": [
    "px.bar(dataset1.head(15), x = 'Country/Region', y = 'TotalCases',\n",
    "       color = 'TotalDeaths', height = 500,\n",
    "       hover_data = ['Country/Region', 'Continent'])"
   ]
  },
  {
   "cell_type": "markdown",
   "id": "e204e9ba",
   "metadata": {},
   "source": [
    "Let's analyze by coloring the total number of recovered cases \n",
    "\n",
    "Example: Bar graph"
   ]
  },
  {
   "cell_type": "code",
   "execution_count": null,
   "id": "51410de7",
   "metadata": {},
   "outputs": [],
   "source": [
    "px.bar(dataset1.head(15), x = 'Country/Region', y = 'TotalCases',\n",
    "       color = 'TotalDeaths', height = 500,\n",
    "       hover_data = ['Country/Region', 'Continent'])"
   ]
  },
  {
   "cell_type": "markdown",
   "id": "3f7b2183",
   "metadata": {},
   "source": [
    "Visualize the same again by coloring the total number of tests.\n",
    "\n",
    "Example: Bar graph"
   ]
  },
  {
   "cell_type": "code",
   "execution_count": null,
   "id": "c7bea8c4",
   "metadata": {},
   "outputs": [],
   "source": [
    "px.bar(dataset1.head(15), x = 'Country/Region', y = 'TotalCases',\n",
    "       color = 'TotalTests', height = 500, hover_data = ['Country/Region', 'Continent'])"
   ]
  },
  {
   "cell_type": "markdown",
   "id": "f8290b14",
   "metadata": {},
   "source": [
    "The visualization could be as we have done with the top 15 countries with total cases, deaths, recoveries, and tests. We can analyze the plot by looking at them.\n",
    "\n",
    "Let's create a horizontal orientation plot with X-axis as 'TotalTests' and Y-axis as 'Country/Region' with passing parameter orientation=\"h\" and color the plot by 'TotalTests'.\n",
    "\n",
    "Example: Bar graph "
   ]
  },
  {
   "cell_type": "code",
   "execution_count": null,
   "id": "db8d6fa7",
   "metadata": {},
   "outputs": [],
   "source": [
    "px.bar(dataset1.head(15), x = 'TotalTests', y = 'Country/Region',\n",
    "       color = 'TotalTests',orientation ='h',  height = 500,\n",
    "       hover_data = ['Country/Region', 'Continent'])"
   ]
  },
  {
   "cell_type": "markdown",
   "id": "42ffa30b",
   "metadata": {},
   "source": [
    "Step 5: Data Visualization through Bubble Charts-Continent Wise\n",
    "Let's create a scatter plot and take a look at the continent's statistics, firstly look at the total number of cases by continent and take hover data as 'Country/Region', 'Continent'.\n",
    "\n",
    "Example: Scatter plot"
   ]
  },
  {
   "cell_type": "code",
   "execution_count": null,
   "id": "430a6cb4",
   "metadata": {},
   "outputs": [],
   "source": [
    "px.scatter(dataset1, x='Continent',y='TotalCases', \n",
    "           hover_data=['Country/Region', 'Continent'], \n",
    "           color='TotalCases', size='TotalCases', size_max=80)"
   ]
  },
  {
   "cell_type": "markdown",
   "id": "19e7b402",
   "metadata": {},
   "source": [
    "log_y= True, the histogram axis (not the returned parameter) is in log scale. The return parameter (n, bins), i.e. the values of bins and sides of bins are the same for log=True and log=False. This means both n==n2 and bins==bins2 are true\n",
    "\n",
    "Example: Scatter plot"
   ]
  },
  {
   "cell_type": "code",
   "execution_count": null,
   "id": "a947185e",
   "metadata": {},
   "outputs": [],
   "source": [
    "px.scatter(dataset1.head(57), x='Continent',y='TotalCases', \n",
    "           hover_data=['Country/Region', 'Continent'], \n",
    "           color='TotalCases', size='TotalCases', size_max=80, log_y=True)"
   ]
  },
  {
   "cell_type": "markdown",
   "id": "b21905cd",
   "metadata": {},
   "source": [
    "Step 6: Data Visualization through Bubble Charts-Country Wise\n",
    "Let's take a look at the country-wise data visualization, first look at the continent with respect to the total number of deaths by the top 50 countries only and color the total number of deaths and take the hover data as 'Country/Region', 'Continent'.\n",
    "\n",
    "Example: Bubble chart"
   ]
  },
  {
   "cell_type": "code",
   "execution_count": null,
   "id": "7a6eaf2b",
   "metadata": {},
   "outputs": [],
   "source": [
    "px.scatter(dataset1.head(100), x='Country/Region', y='TotalCases', \n",
    "           hover_data=['Country/Region', 'Continent'],\n",
    "           color='TotalCases', size='TotalCases', size_max=80)"
   ]
  },
  {
   "cell_type": "markdown",
   "id": "1858f29d",
   "metadata": {},
   "source": [
    "Now, the Country/Region with respect to the total number of cases for top 30 countries only and color the total number of cases and take the hover data as 'Country/Region', 'Continent'.\n",
    "\n",
    "Example: Bubble chart"
   ]
  },
  {
   "cell_type": "code",
   "execution_count": null,
   "id": "20b2573a",
   "metadata": {},
   "outputs": [],
   "source": [
    "px.scatter(dataset1.head(30), x='Country/Region', y='TotalCases', \n",
    "           hover_data=['Country/Region', 'Continent'],\n",
    "           color='Country/Region', size='TotalCases', size_max=80, log_y=True)"
   ]
  },
  {
   "cell_type": "markdown",
   "id": "11012f21",
   "metadata": {},
   "source": [
    "Now format the image of the country/region in relation to the total number of deaths. And do the same for the other aspects of COVID-19 from dataset1.\n",
    "\n",
    "Example: Bubble chart"
   ]
  },
  {
   "cell_type": "code",
   "execution_count": null,
   "id": "c0a533c1",
   "metadata": {},
   "outputs": [],
   "source": [
    "px.scatter(dataset1.head(10), x='Country/Region', y= 'TotalDeaths', \n",
    "           hover_data=['Country/Region', 'Continent'],\n",
    "           color='Country/Region', size= 'TotalDeaths', size_max=80)"
   ]
  },
  {
   "cell_type": "markdown",
   "id": "2d12898d",
   "metadata": {},
   "source": [
    "Example: Country/Region VS Tests/1M pop (color-scale of Tests/1M pop)"
   ]
  },
  {
   "cell_type": "code",
   "execution_count": null,
   "id": "b0cb2856",
   "metadata": {},
   "outputs": [],
   "source": [
    "px.scatter(dataset1.head(30), x='Country/Region', y= 'Tests/1M pop', \n",
    "           hover_data=['Country/Region', 'Continent'],\n",
    "           color='Tests/1M pop', size= 'Tests/1M pop', size_max=80)"
   ]
  },
  {
   "cell_type": "markdown",
   "id": "95d81e37",
   "metadata": {},
   "source": [
    "Example: Bubble chart"
   ]
  },
  {
   "cell_type": "code",
   "execution_count": null,
   "id": "24969054",
   "metadata": {},
   "outputs": [],
   "source": [
    "px.scatter(dataset1.head(30), x='TotalCases', y= 'TotalDeaths', \n",
    "           hover_data=['Country/Region', 'Continent'],\n",
    "           color='TotalDeaths', size= 'TotalDeaths', size_max=80)\n",
    "px.scatter(dataset1.head(30), x='TotalCases', y= 'TotalDeaths', \n",
    "           hover_data=['Country/Region', 'Continent'],\n",
    "           color='TotalDeaths', size= 'TotalDeaths', size_max=80, \n",
    "           log_x=True, log_y=True)"
   ]
  },
  {
   "cell_type": "markdown",
   "id": "735844cf",
   "metadata": {},
   "source": [
    "Step 7: Advanced Data Visualization- Bar graphs for All top infected Countries\n",
    "In this task, we will explore covid-19 data using bar graphs and charts and use dataset2 as it has date column.\n",
    "\n",
    "Example: Bar chart"
   ]
  },
  {
   "cell_type": "code",
   "execution_count": null,
   "id": "cbbafe3d",
   "metadata": {},
   "outputs": [],
   "source": [
    "px.bar(dataset2, x=\"Date\", y=\"Confirmed\", color=\"Confirmed\", \n",
    "       hover_data=[\"Confirmed\", \"Date\", \"Country/Region\"], height=400)"
   ]
  },
  {
   "cell_type": "markdown",
   "id": "1192720e",
   "metadata": {},
   "source": [
    "The above graph we get as output which includes all countries with respect to recovered cases. we can imagine the exponential growth of corona cases by date. We can use log function for this to be more clear. \n",
    "\n",
    "Example: Bar chart"
   ]
  },
  {
   "cell_type": "code",
   "execution_count": null,
   "id": "1e570fc1",
   "metadata": {},
   "outputs": [],
   "source": [
    "px.bar(dataset2, x=\"Date\", y=\"Confirmed\", color=\"Confirmed\", \n",
    "       hover_data=[\"Confirmed\", \"Date\", \"Country/Region\"],log_y=True, height=400)"
   ]
  },
  {
   "cell_type": "markdown",
   "id": "a717db87",
   "metadata": {},
   "source": [
    "Let's imagine death instead of confirmation with the same and color it by date.\n",
    "\n",
    "Example: Bar chart"
   ]
  },
  {
   "cell_type": "code",
   "execution_count": null,
   "id": "c1f4c674",
   "metadata": {},
   "outputs": [],
   "source": [
    "px.bar(dataset2, x=\"Date\", y=\"Deaths\", color=\"Deaths\", \n",
    "       hover_data=[\"Confirmed\", \"Date\", \"Country/Region\"],\n",
    "       log_y=False, height=400)"
   ]
  },
  {
   "cell_type": "markdown",
   "id": "a41b6564",
   "metadata": {},
   "source": [
    "Step 8: Countries Specific COVID Data Visualization: (United States)\n",
    "In this specific task, we will analyze data of the USA country.\n",
    "\n",
    "Example: Refining dataset to get only USA data "
   ]
  },
  {
   "cell_type": "code",
   "execution_count": 51,
   "id": "a015efdd",
   "metadata": {},
   "outputs": [],
   "source": [
    "df_US= dataset2.loc[dataset2[\"Country/Region\"]==\"US\"]"
   ]
  },
  {
   "cell_type": "markdown",
   "id": "97dc82fe",
   "metadata": {},
   "source": [
    "Now let us plot and study the covid situation in the USA.\n",
    "\n",
    "Example: Bar chart"
   ]
  },
  {
   "cell_type": "code",
   "execution_count": null,
   "id": "aa0fdc4b",
   "metadata": {},
   "outputs": [],
   "source": [
    "px.bar(df_US, x=\"Date\", y=\"Confirmed\", color=\"Confirmed\", height=400)"
   ]
  },
  {
   "cell_type": "markdown",
   "id": "969b5b71",
   "metadata": {},
   "source": [
    "Similarly, we can analyze the data in all the ways to generate the line graph for the same.\n",
    "\n",
    "Example: Line plot"
   ]
  },
  {
   "cell_type": "code",
   "execution_count": null,
   "id": "2b82c62a",
   "metadata": {},
   "outputs": [],
   "source": [
    "px.line(df_US,x=\"Date\", y=\"Recovered\", height=400)\n",
    "px.line(df_US,x=\"Date\", y=\"Confirmed\", height=400)\n",
    "px.line(df_US,x=\"Date\", y=\"New cases\", height=400)\n",
    "px.bar(df_US,x=\"Date\", y=\"New cases\", height=400)\n",
    "px.scatter(df_US, x=\"Confirmed\", y=\"Deaths\", height=400)"
   ]
  }
 ],
 "metadata": {
  "kernelspec": {
   "display_name": "base",
   "language": "python",
   "name": "python3"
  },
  "language_info": {
   "codemirror_mode": {
    "name": "ipython",
    "version": 3
   },
   "file_extension": ".py",
   "mimetype": "text/x-python",
   "name": "python",
   "nbconvert_exporter": "python",
   "pygments_lexer": "ipython3",
   "version": "3.12.7"
  }
 },
 "nbformat": 4,
 "nbformat_minor": 5
}
