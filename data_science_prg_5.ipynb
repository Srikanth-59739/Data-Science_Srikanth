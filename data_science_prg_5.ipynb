{
 "cells": [
  {
   "cell_type": "markdown",
   "id": "af00c7bf",
   "metadata": {},
   "source": [
    "In this article, we will use Python and its different libraries to analyze the Uber Rides Data.\n",
    "\n",
    "Importing Libraries\n",
    "The analysis will be done using the following libraries : \n",
    "\n",
    "Pandas:  This library helps to load the data frame in a 2D array format and has multiple functions to perform analysis tasks in one go.\n",
    "Numpy: Numpy arrays are very fast and can perform large computations in a very short time.\n",
    "Matplotlib / Seaborn: This library is used to draw visualizations.\n",
    "To importing all these libraries, we can use the  below code :"
   ]
  },
  {
   "cell_type": "code",
   "execution_count": 1,
   "id": "58f05e3d",
   "metadata": {},
   "outputs": [],
   "source": [
    "import pandas as pd\n",
    "import numpy as np\n",
    "import matplotlib.pyplot as plt\n",
    "import seaborn as sns"
   ]
  },
  {
   "cell_type": "markdown",
   "id": "80675668",
   "metadata": {},
   "source": [
    "Importing Dataset\n",
    "After importing all the libraries,  download the data using the link.\n",
    "\n",
    "Once downloaded, you can import the dataset using the pandas library."
   ]
  },
  {
   "cell_type": "code",
   "execution_count": 2,
   "id": "fb8cee51",
   "metadata": {},
   "outputs": [
    {
     "data": {
      "text/html": [
       "<div>\n",
       "<style scoped>\n",
       "    .dataframe tbody tr th:only-of-type {\n",
       "        vertical-align: middle;\n",
       "    }\n",
       "\n",
       "    .dataframe tbody tr th {\n",
       "        vertical-align: top;\n",
       "    }\n",
       "\n",
       "    .dataframe thead th {\n",
       "        text-align: right;\n",
       "    }\n",
       "</style>\n",
       "<table border=\"1\" class=\"dataframe\">\n",
       "  <thead>\n",
       "    <tr style=\"text-align: right;\">\n",
       "      <th></th>\n",
       "      <th>START_DATE</th>\n",
       "      <th>END_DATE</th>\n",
       "      <th>CATEGORY</th>\n",
       "      <th>START</th>\n",
       "      <th>STOP</th>\n",
       "      <th>MILES</th>\n",
       "      <th>PURPOSE</th>\n",
       "    </tr>\n",
       "  </thead>\n",
       "  <tbody>\n",
       "    <tr>\n",
       "      <th>0</th>\n",
       "      <td>01-01-2016 21:11</td>\n",
       "      <td>01-01-2016 21:17</td>\n",
       "      <td>Business</td>\n",
       "      <td>Fort Pierce</td>\n",
       "      <td>Fort Pierce</td>\n",
       "      <td>5.1</td>\n",
       "      <td>Meal/Entertain</td>\n",
       "    </tr>\n",
       "    <tr>\n",
       "      <th>1</th>\n",
       "      <td>01-02-2016 01:25</td>\n",
       "      <td>01-02-2016 01:37</td>\n",
       "      <td>Business</td>\n",
       "      <td>Fort Pierce</td>\n",
       "      <td>Fort Pierce</td>\n",
       "      <td>5.0</td>\n",
       "      <td>NaN</td>\n",
       "    </tr>\n",
       "    <tr>\n",
       "      <th>2</th>\n",
       "      <td>01-02-2016 20:25</td>\n",
       "      <td>01-02-2016 20:38</td>\n",
       "      <td>Business</td>\n",
       "      <td>Fort Pierce</td>\n",
       "      <td>Fort Pierce</td>\n",
       "      <td>4.8</td>\n",
       "      <td>Errand/Supplies</td>\n",
       "    </tr>\n",
       "    <tr>\n",
       "      <th>3</th>\n",
       "      <td>01-05-2016 17:31</td>\n",
       "      <td>01-05-2016 17:45</td>\n",
       "      <td>Business</td>\n",
       "      <td>Fort Pierce</td>\n",
       "      <td>Fort Pierce</td>\n",
       "      <td>4.7</td>\n",
       "      <td>Meeting</td>\n",
       "    </tr>\n",
       "    <tr>\n",
       "      <th>4</th>\n",
       "      <td>01-06-2016 14:42</td>\n",
       "      <td>01-06-2016 15:49</td>\n",
       "      <td>Business</td>\n",
       "      <td>Fort Pierce</td>\n",
       "      <td>West Palm Beach</td>\n",
       "      <td>63.7</td>\n",
       "      <td>Customer Visit</td>\n",
       "    </tr>\n",
       "  </tbody>\n",
       "</table>\n",
       "</div>"
      ],
      "text/plain": [
       "         START_DATE          END_DATE  CATEGORY        START             STOP  \\\n",
       "0  01-01-2016 21:11  01-01-2016 21:17  Business  Fort Pierce      Fort Pierce   \n",
       "1  01-02-2016 01:25  01-02-2016 01:37  Business  Fort Pierce      Fort Pierce   \n",
       "2  01-02-2016 20:25  01-02-2016 20:38  Business  Fort Pierce      Fort Pierce   \n",
       "3  01-05-2016 17:31  01-05-2016 17:45  Business  Fort Pierce      Fort Pierce   \n",
       "4  01-06-2016 14:42  01-06-2016 15:49  Business  Fort Pierce  West Palm Beach   \n",
       "\n",
       "   MILES          PURPOSE  \n",
       "0    5.1   Meal/Entertain  \n",
       "1    5.0              NaN  \n",
       "2    4.8  Errand/Supplies  \n",
       "3    4.7          Meeting  \n",
       "4   63.7   Customer Visit  "
      ]
     },
     "execution_count": 2,
     "metadata": {},
     "output_type": "execute_result"
    }
   ],
   "source": [
    "dataset = pd.read_csv(\"C:\\\\Users\\\\LENOVO\\\\Downloads\\\\UberDataset.csv\")\n",
    "dataset.head()"
   ]
  },
  {
   "cell_type": "markdown",
   "id": "db13e5a4",
   "metadata": {},
   "source": [
    "To find the shape of the dataset, we can use dataset.shape"
   ]
  },
  {
   "cell_type": "code",
   "execution_count": 3,
   "id": "a0a1d7e4",
   "metadata": {},
   "outputs": [
    {
     "data": {
      "text/plain": [
       "(1156, 7)"
      ]
     },
     "execution_count": 3,
     "metadata": {},
     "output_type": "execute_result"
    }
   ],
   "source": [
    "dataset.shape"
   ]
  },
  {
   "cell_type": "markdown",
   "id": "bf7e82d9",
   "metadata": {},
   "source": [
    "To understand the data more deeply, we need to know about the null values count, datatype, etc. So for that we will use the below code."
   ]
  },
  {
   "cell_type": "code",
   "execution_count": 4,
   "id": "84e2eb06",
   "metadata": {},
   "outputs": [
    {
     "name": "stdout",
     "output_type": "stream",
     "text": [
      "<class 'pandas.core.frame.DataFrame'>\n",
      "RangeIndex: 1156 entries, 0 to 1155\n",
      "Data columns (total 7 columns):\n",
      " #   Column      Non-Null Count  Dtype  \n",
      "---  ------      --------------  -----  \n",
      " 0   START_DATE  1156 non-null   object \n",
      " 1   END_DATE    1155 non-null   object \n",
      " 2   CATEGORY    1155 non-null   object \n",
      " 3   START       1155 non-null   object \n",
      " 4   STOP        1155 non-null   object \n",
      " 5   MILES       1156 non-null   float64\n",
      " 6   PURPOSE     653 non-null    object \n",
      "dtypes: float64(1), object(6)\n",
      "memory usage: 63.3+ KB\n"
     ]
    }
   ],
   "source": [
    "dataset.info()"
   ]
  },
  {
   "cell_type": "markdown",
   "id": "90ae1e6c",
   "metadata": {},
   "source": [
    "Data Preprocessing\n",
    "As we understood that there are a lot of null values in PURPOSE column, so for that we will me filling the null values with a NOT keyword. You can try something else too."
   ]
  },
  {
   "cell_type": "code",
   "execution_count": 9,
   "id": "33b85704",
   "metadata": {},
   "outputs": [],
   "source": [
    "dataset['PURPOSE'].fillna(\"NOT\", inplace=True)"
   ]
  },
  {
   "cell_type": "markdown",
   "id": "8407b5b1",
   "metadata": {},
   "source": [
    "Changing the START_DATE and END_DATE to the date_time format so that further it can be use to do analysis."
   ]
  },
  {
   "cell_type": "code",
   "execution_count": 10,
   "id": "8c00672e",
   "metadata": {},
   "outputs": [],
   "source": [
    "dataset['START_DATE'] = pd.to_datetime(dataset['START_DATE'], \n",
    "                                       errors='coerce')\n",
    "dataset['END_DATE'] = pd.to_datetime(dataset['END_DATE'], \n",
    "                                     errors='coerce')"
   ]
  },
  {
   "cell_type": "markdown",
   "id": "3b9bc49f",
   "metadata": {},
   "source": [
    "Splitting the START_DATE to date and time column and then converting the time into four different categories i.e. Morning, Afternoon, Evening, Night"
   ]
  },
  {
   "cell_type": "code",
   "execution_count": 12,
   "id": "e31cecbe",
   "metadata": {},
   "outputs": [],
   "source": [
    "from datetime import datetime\n",
    "\n",
    "dataset['date'] = pd.DatetimeIndex(dataset['START_DATE']).date\n",
    "dataset['time'] = pd.DatetimeIndex(dataset['START_DATE']).hour\n",
    "\n",
    "#changing into categories of day and night\n",
    "dataset['day-night'] = pd.cut(x=dataset['time'],\n",
    "                              bins = [0,10,15,19,24],\n",
    "                              labels = ['Morning','Afternoon','Evening','Night'])"
   ]
  },
  {
   "cell_type": "markdown",
   "id": "390dc4ec",
   "metadata": {},
   "source": [
    "Once we are done with creating new columns, we can now drop rows with null values."
   ]
  },
  {
   "cell_type": "code",
   "execution_count": 13,
   "id": "ee1766ae",
   "metadata": {},
   "outputs": [],
   "source": [
    "dataset.dropna(inplace=True)"
   ]
  },
  {
   "cell_type": "markdown",
   "id": "80725765",
   "metadata": {},
   "source": [
    "It is also important to drop the duplicates rows from the dataset. To do that, refer the code below."
   ]
  },
  {
   "cell_type": "code",
   "execution_count": 14,
   "id": "bef2847d",
   "metadata": {},
   "outputs": [],
   "source": [
    "dataset.drop_duplicates(inplace=True)"
   ]
  },
  {
   "cell_type": "markdown",
   "id": "6c73f15c",
   "metadata": {},
   "source": [
    "Data Visualization\n",
    "In this section, we will try to understand and compare all columns.\n",
    "\n",
    "Let's start with checking the unique values in dataset of the columns with object datatype."
   ]
  },
  {
   "cell_type": "code",
   "execution_count": 15,
   "id": "6f7ffd93",
   "metadata": {},
   "outputs": [
    {
     "data": {
      "text/plain": [
       "{'CATEGORY': 2, 'START': 108, 'STOP': 112, 'PURPOSE': 7, 'date': 113}"
      ]
     },
     "execution_count": 15,
     "metadata": {},
     "output_type": "execute_result"
    }
   ],
   "source": [
    "obj = (dataset.dtypes == 'object')\n",
    "object_cols = list(obj[obj].index)\n",
    "\n",
    "unique_values = {}\n",
    "for col in object_cols:\n",
    "  unique_values[col] = dataset[col].unique().size\n",
    "unique_values"
   ]
  },
  {
   "cell_type": "markdown",
   "id": "ab1cc091",
   "metadata": {},
   "source": [
    "Now, we will be using matplotlib and seaborn library for countplot the CATEGORY and PURPOSE columns."
   ]
  },
  {
   "cell_type": "code",
   "execution_count": 16,
   "id": "0d595b00",
   "metadata": {},
   "outputs": [
    {
     "data": {
      "text/plain": [
       "(array([  0.,  25.,  50.,  75., 100., 125., 150., 175.]),\n",
       " [Text(0.0, 0, '0'),\n",
       "  Text(25.0, 0, '25'),\n",
       "  Text(50.0, 0, '50'),\n",
       "  Text(75.0, 0, '75'),\n",
       "  Text(100.0, 0, '100'),\n",
       "  Text(125.0, 0, '125'),\n",
       "  Text(150.0, 0, '150'),\n",
       "  Text(175.0, 0, '175')])"
      ]
     },
     "execution_count": 16,
     "metadata": {},
     "output_type": "execute_result"
    },
    {
     "data": {
      "image/png": "[encoded data removed]",
      "text/plain": [
       "<Figure size 1000x500 with 2 Axes>"
      ]
     },
     "metadata": {},
     "output_type": "display_data"
    }
   ],
   "source": [
    "plt.figure(figsize=(10,5))\n",
    "\n",
    "plt.subplot(1,2,1)\n",
    "sns.countplot(dataset['CATEGORY'])\n",
    "plt.xticks(rotation=90)\n",
    "\n",
    "plt.subplot(1,2,2)\n",
    "sns.countplot(dataset['PURPOSE'])\n",
    "plt.xticks(rotation=90)"
   ]
  },
  {
   "cell_type": "markdown",
   "id": "6e59391f",
   "metadata": {},
   "source": [
    "Let's do the same for time column, here we will be using the time column which we have extracted above."
   ]
  },
  {
   "cell_type": "code",
   "execution_count": null,
   "id": "f28c7388",
   "metadata": {},
   "outputs": [],
   "source": [
    "sns.countplot(dataset['day-night'])\n",
    "plt.xticks(rotation=90)"
   ]
  },
  {
   "cell_type": "markdown",
   "id": "b0397933",
   "metadata": {},
   "source": [
    "Now, we will be comparing the two different categories along with the PURPOSE of the user."
   ]
  },
  {
   "cell_type": "code",
   "execution_count": null,
   "id": "3cf999a0",
   "metadata": {},
   "outputs": [],
   "source": [
    "plt.figure(figsize=(15, 5))\n",
    "sns.countplot(data=dataset, x='PURPOSE', hue='CATEGORY')\n",
    "plt.xticks(rotation=90)\n",
    "plt.show()"
   ]
  },
  {
   "cell_type": "markdown",
   "id": "dc40250f",
   "metadata": {},
   "source": [
    "Insights from the above count-plots : \n",
    "Most of the rides are booked for business purpose.\n",
    "Most of the people book cabs for Meetings and Meal / Entertain purpose.\n",
    "Most of the cabs are booked in the time duration of 10am-5pm (Afternoon).\n",
    "As we have seen that CATEGORY and PURPOSE columns are two very important columns. So now we will be using OneHotEncoder to categories them."
   ]
  },
  {
   "cell_type": "code",
   "execution_count": null,
   "id": "2ebda6d5",
   "metadata": {},
   "outputs": [],
   "source": [
    "from sklearn.preprocessing import OneHotEncoder\n",
    "object_cols = ['CATEGORY', 'PURPOSE']\n",
    "OH_encoder = OneHotEncoder(sparse=False, handle_unknown='ignore')\n",
    "OH_cols = pd.DataFrame(OH_encoder.fit_transform(dataset[object_cols]))\n",
    "OH_cols.index = dataset.index\n",
    "OH_cols.columns = OH_encoder.get_feature_names_out()\n",
    "df_final = dataset.drop(object_cols, axis=1)\n",
    "dataset = pd.concat([df_final, OH_cols], axis=1)\n"
   ]
  },
  {
   "cell_type": "markdown",
   "id": "e17c5687",
   "metadata": {},
   "source": [
    "After that, we can now find the correlation between the columns using heatmap."
   ]
  },
  {
   "cell_type": "code",
   "execution_count": null,
   "id": "640582d3",
   "metadata": {},
   "outputs": [],
   "source": [
    "# Select only numerical columns for correlation calculation\n",
    "numeric_dataset = dataset.select_dtypes(include=['number'])\n",
    "\n",
    "sns.heatmap(numeric_dataset.corr(), \n",
    "            cmap='BrBG', \n",
    "            fmt='.2f', \n",
    "            linewidths=2, \n",
    "            annot=True)"
   ]
  },
  {
   "cell_type": "markdown",
   "id": "eb17f906",
   "metadata": {},
   "source": [
    "nsights from the heatmap:\n",
    "Business and Personal Category are highly negatively correlated, this have already proven earlier. So this plot, justifies the above conclusions.\n",
    "There is not much correlation between the features.\n",
    "Now, as we need to visualize the month data. This can we same as done before (for hours). "
   ]
  },
  {
   "cell_type": "code",
   "execution_count": null,
   "id": "52c11b25",
   "metadata": {},
   "outputs": [],
   "source": [
    "dataset['MONTH'] = pd.DatetimeIndex(dataset['START_DATE']).month\n",
    "month_label = {1.0: 'Jan', 2.0: 'Feb', 3.0: 'Mar', 4.0: 'April',\n",
    "               5.0: 'May', 6.0: 'June', 7.0: 'July', 8.0: 'Aug',\n",
    "               9.0: 'Sep', 10.0: 'Oct', 11.0: 'Nov', 12.0: 'Dec'}\n",
    "dataset[\"MONTH\"] = dataset.MONTH.map(month_label)\n",
    "\n",
    "mon = dataset.MONTH.value_counts(sort=False)\n",
    "\n",
    "# Month total rides count vs Month ride max count\n",
    "df = pd.DataFrame({\"MONTHS\": mon.values,\n",
    "                   \"VALUE COUNT\": dataset.groupby('MONTH',\n",
    "                                                  sort=False)['MILES'].max()})\n",
    "\n",
    "p = sns.lineplot(data=df)\n",
    "p.set(xlabel=\"MONTHS\", ylabel=\"VALUE COUNT\")"
   ]
  },
  {
   "cell_type": "markdown",
   "id": "68bc88b0",
   "metadata": {},
   "source": [
    "Insights from the above plot : \n",
    "The counts are very irregular.\n",
    "Still its very clear that the counts are very less during Nov, Dec, Jan, which justifies the fact that  time winters are there in Florida, US.\n",
    "Visualization for days data."
   ]
  },
  {
   "cell_type": "code",
   "execution_count": null,
   "id": "ff87cf84",
   "metadata": {},
   "outputs": [],
   "source": [
    "dataset['DAY'] = dataset.START_DATE.dt.weekday\n",
    "day_label = {\n",
    "    0: 'Mon', 1: 'Tues', 2: 'Wed', 3: 'Thus', 4: 'Fri', 5: 'Sat', 6: 'Sun'\n",
    "}\n",
    "dataset['DAY'] = dataset['DAY'].map(day_label)"
   ]
  },
  {
   "cell_type": "code",
   "execution_count": null,
   "id": "22b8f105",
   "metadata": {},
   "outputs": [],
   "source": [
    "day_label = dataset.DAY.value_counts()\n",
    "sns.barplot(x=day_label.index, y=day_label);\n",
    "plt.xlabel('DAY')\n",
    "plt.ylabel('COUNT')"
   ]
  },
  {
   "cell_type": "markdown",
   "id": "5fb4c9b5",
   "metadata": {},
   "source": [
    "Now, let's explore the MILES Column .\n",
    "\n",
    "We can use boxplot to check the distribution of the column."
   ]
  },
  {
   "cell_type": "code",
   "execution_count": null,
   "id": "acf07685",
   "metadata": {},
   "outputs": [],
   "source": [
    "sns.boxplot(dataset['MILES'])"
   ]
  },
  {
   "cell_type": "markdown",
   "id": "a53521b5",
   "metadata": {},
   "source": [
    "As the graph is not clearly understandable. Let's zoom in it for values lees than 100."
   ]
  },
  {
   "cell_type": "code",
   "execution_count": null,
   "id": "44c4366f",
   "metadata": {},
   "outputs": [],
   "source": [
    "sns.boxplot(dataset[dataset['MILES']<100]['MILES'])"
   ]
  },
  {
   "cell_type": "markdown",
   "id": "356f3e42",
   "metadata": {},
   "source": [
    "It's bit visible. But to get more clarity we can use distplot for values less than 40."
   ]
  },
  {
   "cell_type": "code",
   "execution_count": null,
   "id": "7e8a33ef",
   "metadata": {},
   "outputs": [],
   "source": [
    "sns.distplot(dataset[dataset['MILES']<40]['MILES'])"
   ]
  },
  {
   "cell_type": "markdown",
   "id": "ca88945f",
   "metadata": {},
   "source": [
    "Insights from the above plots :\n",
    "Most of the cabs booked for the distance of 4-5 miles.\n",
    "Majorly people chooses cabs for the distance of 0-20 miles.\n",
    "For distance more than 20 miles cab counts is nearly negligible."
   ]
  }
 ],
 "metadata": {
  "kernelspec": {
   "display_name": "base",
   "language": "python",
   "name": "python3"
  },
  "language_info": {
   "codemirror_mode": {
    "name": "ipython",
    "version": 3
   },
   "file_extension": ".py",
   "mimetype": "text/x-python",
   "name": "python",
   "nbconvert_exporter": "python",
   "pygments_lexer": "ipython3",
   "version": "3.12.7"
  }
 },
 "nbformat": 4,
 "nbformat_minor": 5
}
