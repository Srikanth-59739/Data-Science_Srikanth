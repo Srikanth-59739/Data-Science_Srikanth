{
 "cells": [
  {
   "cell_type": "markdown",
   "id": "cd4710cf",
   "metadata": {},
   "source": [
    "Exploring the AirBnB Dataset in Python\n",
    "\n",
    "Step 1: Importing Necessary Libraries and Loading the AirBNB Dataset\n",
    "This script imports essential data manipulation and visualization libraries, loads an Airbnb dataset from a CSV file, and displays the first few rows of the dataset. This initial step helps in understanding the structure and content of the data before performing further analysis or visualization."
   ]
  },
  {
   "cell_type": "code",
   "execution_count": null,
   "id": "53c66278",
   "metadata": {},
   "outputs": [],
   "source": [
    "import pandas as pd\n",
    "import matplotlib.pyplot as plt\n",
    "import seaborn as sns\n",
    "\n",
    "# Load the dataset\n",
    "file_path = \"C:\\\\Users\\\\LENOVO\\\\Downloads\\\\Airbnb_Open_Data.csv\"\n",
    "df = pd.read_csv(file_path)\n",
    "print(df.head())"
   ]
  },
  {
   "cell_type": "markdown",
   "id": "4e23dab5",
   "metadata": {},
   "source": [
    "Step 2: Check the column names in the Dataset"
   ]
  },
  {
   "cell_type": "code",
   "execution_count": null,
   "id": "68ee871d",
   "metadata": {},
   "outputs": [],
   "source": [
    "df.columns"
   ]
  },
  {
   "cell_type": "markdown",
   "id": "5fe739da",
   "metadata": {},
   "source": [
    "Step 3: Check for Missing Values"
   ]
  },
  {
   "cell_type": "code",
   "execution_count": null,
   "id": "b2a772b6",
   "metadata": {},
   "outputs": [],
   "source": [
    "print(df.isnull().sum())"
   ]
  },
  {
   "cell_type": "markdown",
   "id": "b2a2f14c",
   "metadata": {},
   "source": [
    "Step 4: Handle Missing Values\n",
    "This code ensures that the 'last review' column is properly formatted as datetime, missing values in key columns are appropriately handled, and incomplete records are removed, preparing the dataset for further analysis or visualization."
   ]
  },
  {
   "cell_type": "code",
   "execution_count": 8,
   "id": "d2345257",
   "metadata": {},
   "outputs": [],
   "source": [
    "# Convert 'last review' to datetime and handle errors\n",
    "df['last review'] = pd.to_datetime(df['last review'], errors='coerce')\n",
    "\n",
    "# Fill missing values\n",
    "df.fillna({'reviews per month': 0, 'last review': df['last review'].min()}, inplace=True)\n",
    "\n",
    "# Drop records with missing 'name' or 'host name'\n",
    "df.dropna(subset=['NAME', 'host name'], inplace=True)"
   ]
  },
  {
   "cell_type": "markdown",
   "id": "437de01e",
   "metadata": {},
   "source": [
    "Step 5: Correct Data Types\n",
    "Ensure that all columns have the correct data types."
   ]
  },
  {
   "cell_type": "code",
   "execution_count": null,
   "id": "2ca67939",
   "metadata": {},
   "outputs": [],
   "source": [
    "# Remove dollar signs and convert to float\n",
    "df['price'] = df['price'].replace('[\\$,]', '', regex=True).astype(float)\n",
    "df['service fee'] = df['service fee'].replace('[\\$,]', '', regex=True).astype(float)"
   ]
  },
  {
   "cell_type": "markdown",
   "id": "04ebd2f4",
   "metadata": {},
   "source": [
    "Step 6: Remove Duplicates\n",
    "Check for and remove any duplicate records."
   ]
  },
  {
   "cell_type": "code",
   "execution_count": 10,
   "id": "7e83b860",
   "metadata": {},
   "outputs": [],
   "source": [
    "df.drop_duplicates(inplace=True)"
   ]
  },
  {
   "cell_type": "markdown",
   "id": "00642e49",
   "metadata": {},
   "source": [
    "Step 7: Confirm Data Cleaning\n",
    "Verify that the data cleaning steps were successful."
   ]
  },
  {
   "cell_type": "code",
   "execution_count": null,
   "id": "1717875b",
   "metadata": {},
   "outputs": [],
   "source": [
    "print(df.info())"
   ]
  },
  {
   "cell_type": "markdown",
   "id": "102f67a6",
   "metadata": {},
   "source": [
    "Step 8: Descriptive Statistics\n",
    "The df.describe() function in pandas generates descriptive statistics that summarize the central tendency, dispersion, and shape of a dataset’s distribution, excluding NaN values. This function is useful for understanding the basic statistical properties of the data."
   ]
  },
  {
   "cell_type": "code",
   "execution_count": null,
   "id": "7f239eba",
   "metadata": {},
   "outputs": [],
   "source": [
    "print(df.describe())"
   ]
  },
  {
   "cell_type": "markdown",
   "id": "72c014e8",
   "metadata": {},
   "source": [
    "Step 9: Visualization\n",
    "Distribution of Prices\n",
    "Plot the distribution of listing prices."
   ]
  },
  {
   "cell_type": "code",
   "execution_count": null,
   "id": "eed72143",
   "metadata": {},
   "outputs": [],
   "source": [
    "plt.figure(figsize=(10, 6))\n",
    "sns.histplot(df['price'], bins=50, kde=True)\n",
    "plt.title('Distribution of Listing Prices')\n",
    "plt.xlabel('Price ($)')\n",
    "plt.ylabel('Frequency')\n",
    "plt.show()"
   ]
  },
  {
   "cell_type": "markdown",
   "id": "a09cca51",
   "metadata": {},
   "source": [
    "Room Type Analysis\n",
    "Analyze the distribution of different room types."
   ]
  },
  {
   "cell_type": "code",
   "execution_count": null,
   "id": "1176fa9e",
   "metadata": {},
   "outputs": [],
   "source": [
    "plt.figure(figsize=(8, 5))\n",
    "sns.countplot(x='room type', data=df , color='hotpink')\n",
    "plt.title('Room Type Distribution')\n",
    "plt.xlabel('Room Type')\n",
    "plt.ylabel('Count')\n",
    "plt.show()"
   ]
  },
  {
   "cell_type": "markdown",
   "id": "b22c5a04",
   "metadata": {},
   "source": [
    "Neighborhood Analysis\n",
    "Examine how listings are distributed across different neighborhoods."
   ]
  },
  {
   "cell_type": "code",
   "execution_count": null,
   "id": "3b72e9d5",
   "metadata": {},
   "outputs": [],
   "source": [
    "plt.figure(figsize=(12, 8))\n",
    "sns.countplot(y='neighbourhood group', data=df,color=\"lightgreen\" , order=df['neighbourhood group'].value_counts().index)\n",
    "plt.title('Number of Listings by Neighborhood Group')\n",
    "plt.xlabel('Count')\n",
    "plt.ylabel('Neighborhood Group')\n",
    "plt.show()"
   ]
  },
  {
   "cell_type": "markdown",
   "id": "59260377",
   "metadata": {},
   "source": [
    "Price vs. Room Type\n",
    "Visualize the relationship between price and room type."
   ]
  },
  {
   "cell_type": "code",
   "execution_count": null,
   "id": "61127013",
   "metadata": {},
   "outputs": [],
   "source": [
    "plt.figure(figsize=(10, 6))\n",
    "sns.boxplot(x='room type', y='price', hue='room type', data=df, palette='Set2')\n",
    "plt.title('Price vs. Room Type')\n",
    "plt.xlabel('Room Type')\n",
    "plt.ylabel('Price ($)')\n",
    "plt.legend(title='Room Type')\n",
    "plt.show()"
   ]
  },
  {
   "cell_type": "markdown",
   "id": "1e3538bd",
   "metadata": {},
   "source": [
    "Reviews Over Time\n",
    "Plot the number of reviews over time."
   ]
  },
  {
   "cell_type": "code",
   "execution_count": null,
   "id": "4c631bff",
   "metadata": {},
   "outputs": [],
   "source": [
    "df['last review'] = pd.to_datetime(df['last review'])\n",
    "reviews_over_time = df.groupby(df['last review'].dt.to_period('M')).size()\n",
    "\n",
    "plt.figure(figsize=(12, 6))\n",
    "reviews_over_time.plot(kind='line',color='red')\n",
    "plt.title('Number of Reviews Over Time')\n",
    "plt.xlabel('Date')\n",
    "plt.ylabel('Number of Reviews')\n",
    "plt.show()"
   ]
  },
  {
   "cell_type": "markdown",
   "id": "780cc173",
   "metadata": {},
   "source": [
    "Key Insights From Exploratory Data Analysis of AirBnB Dataset\n",
    "The key insights derived from the exploratory data analysis are discussed below:\n",
    "\n",
    "1.Pricing Distribution:\n",
    "Most Airbnb listings are priced within a moderate range.\n",
    "There are a few high-priced outliers, indicating some premium listings with significantly higher prices.\n",
    "\n",
    "2.Room Type Distribution:\n",
    "The majority of listings are either entire homes/apartments or private rooms.\n",
    "Shared rooms and hotel rooms constitute a very small portion of the listings.\n",
    "\n",
    "3.Geographical Distribution:\n",
    "Listings are predominantly concentrated in popular areas like Brooklyn and Manhattan.\n",
    "Other boroughs such as Queens, Bronx, and Staten Island have fewer listings.\n",
    "\n",
    "4.Price Comparison by Room Type:\n",
    "Entire homes/apartments generally cost more than private rooms.\n",
    "Shared rooms tend to have the lowest prices among the room types.\n",
    "\n",
    "5.Seasonal Trends in Reviews:\n",
    "There are observable seasonal trends in the number of reviews.\n",
    "Certain months experience higher review activity.\n",
    "\n",
    "\n",
    "Conclusion\n",
    "EDA helps us understand the main trends and patterns in the AirBnB dataset. We found that most listings are reasonably priced, with popular areas having the highest concentration of listings. Entire homes/apartments are typically more expensive than private rooms. Additionally, review patterns show seasonal variations. These insights can guide both hosts and guests in making informed decisions.\n",
    "\n"
   ]
  }
 ],
 "metadata": {
  "kernelspec": {
   "display_name": "base",
   "language": "python",
   "name": "python3"
  },
  "language_info": {
   "codemirror_mode": {
    "name": "ipython",
    "version": 3
   },
   "file_extension": ".py",
   "mimetype": "text/x-python",
   "name": "python",
   "nbconvert_exporter": "python",
   "pygments_lexer": "ipython3",
   "version": "3.12.7"
  }
 },
 "nbformat": 4,
 "nbformat_minor": 5
}
